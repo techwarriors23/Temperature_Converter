{
  "nbformat": 4,
  "nbformat_minor": 0,
  "metadata": {
    "colab": {
      "provenance": []
    },
    "kernelspec": {
      "name": "python3",
      "display_name": "Python 3"
    },
    "language_info": {
      "name": "python"
    }
  },
  "cells": [
    {
      "cell_type": "code",
      "source": [
        "def convert_temperature(temp, unit):\n",
        "    if unit == 'F':\n",
        "        converted_temp = (temp - 32) * 5/9\n",
        "    elif unit == 'C':\n",
        "        converted_temp = (temp * 9/5) + 32\n",
        "    else:\n",
        "        raise ValueError(\"Unit must be 'F' or 'C'\")\n",
        "\n",
        "    return round(converted_temp, 2)\n",
        "\n",
        "print(convert_temperature(100, 'F'))\n",
        "print(convert_temperature(200, 'C'))"
      ],
      "metadata": {
        "colab": {
          "base_uri": "https://localhost:8080/"
        },
        "id": "-wjvF9W8U8XD",
        "outputId": "7343dfd4-3286-45c3-de89-19d5f4030a71"
      },
      "execution_count": 6,
      "outputs": [
        {
          "output_type": "stream",
          "name": "stdout",
          "text": [
            "37.78\n",
            "392.0\n"
          ]
        }
      ]
    }
  ]
}